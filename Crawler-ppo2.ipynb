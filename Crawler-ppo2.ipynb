{
 "cells": [
  {
   "cell_type": "markdown",
   "metadata": {},
   "source": [
    "### 1. Start the Environment"
   ]
  },
  {
   "cell_type": "code",
   "execution_count": 1,
   "metadata": {},
   "outputs": [],
   "source": [
    "from mlagents.envs import UnityEnvironment\n",
    "import numpy as np\n",
    "\n",
    "# Some more magic so that the notebook will reload external python modules;\n",
    "# see http://stackoverflow.com/questions/1907993/autoreload-of-modules-in-ipython\n",
    "%load_ext autoreload\n",
    "%autoreload 2"
   ]
  },
  {
   "cell_type": "markdown",
   "metadata": {},
   "source": [
    "**_Before running the code cell below_**, change the `file_name` parameter to match the location of the Reacher Unity environment.\n",
    "\n",
    "For instance, if you are using a Mac, then you downloaded `Reacher.app`.  If this file is in the same folder as the notebook, then the line below should appear as follows:\n",
    "```\n",
    "env = UnityEnvironment(file_name=\"Reacher.app\")\n",
    "```"
   ]
  },
  {
   "cell_type": "code",
   "execution_count": 2,
   "metadata": {},
   "outputs": [
    {
     "name": "stderr",
     "output_type": "stream",
     "text": [
      "INFO:mlagents.envs:\n",
      "'Academy' started successfully!\n",
      "Unity Academy name: Academy\n",
      "        Number of Brains: 1\n",
      "        Number of Training Brains : 1\n",
      "        Reset Parameters :\n",
      "\t\tgoal_speed -> 1.0\n",
      "\t\tgoal_size -> 5.0\n",
      "Unity brain name: ReacherLearning\n",
      "        Number of Visual Observations (per agent): 0\n",
      "        Vector Observation space size (per agent): 33\n",
      "        Number of stacked Vector Observation: 1\n",
      "        Vector Action space type: continuous\n",
      "        Vector Action space size (per agent): [4]\n",
      "        Vector Action descriptions: , , , \n"
     ]
    }
   ],
   "source": [
    "env = UnityEnvironment(file_name='unity_envs/Reacher_Linux/Reacher_Linux.x86_64')"
   ]
  },
  {
   "cell_type": "markdown",
   "metadata": {},
   "source": [
    "Environments contain **_brains_** which are responsible for deciding the actions of their associated agents. Here we check for the first brain available, and set it as the default brain we will be controlling from Python."
   ]
  },
  {
   "cell_type": "code",
   "execution_count": 3,
   "metadata": {},
   "outputs": [],
   "source": [
    "# get the default brain\n",
    "brain_name = env.brain_names[0]\n",
    "brain = env.brains[brain_name]"
   ]
  },
  {
   "cell_type": "markdown",
   "metadata": {},
   "source": [
    "### 2. Examine the State and Action Spaces\n",
    "\n",
    "* Set-up: A creature with 4 arms and 4 forearms.\n",
    "* Goal: The agents must move its body toward the goal direction without falling.\n",
    "* CrawlerStaticTarget - Goal direction is always forward.\n",
    "* CrawlerDynamicTarget- Goal direction is randomized.\n",
    "* Agents: The environment contains 3 agent linked to a single Brain.\n",
    "* Agent Reward Function (independent):\n",
    "* +0.03 times body velocity in the goal direction.\n",
    "* +0.01 times body direction alignment with goal direction.\n",
    "* Brains: One Brain with the following observation/action space.\n",
    "* Vector Observation space: 117 variables corresponding to position, rotation, velocity, and angular velocities of each limb plus the acceleration and angular acceleration of the body.\n",
    "* Vector Action space: (Continuous) Size of 20, corresponding to target rotations for joints.\n",
    "* Visual Observations: None.\n",
    "* Reset Parameters: None\n",
    "* Benchmark Mean Reward for CrawlerStaticTarget: 2000\n",
    "* Benchmark Mean Reward for CrawlerDynamicTarget: 400\n",
    "\n",
    "Lets print some information about the environment."
   ]
  },
  {
   "cell_type": "code",
   "execution_count": 4,
   "metadata": {},
   "outputs": [
    {
     "name": "stdout",
     "output_type": "stream",
     "text": [
      "Number of agents: 20\n",
      "Size of each action: 4\n",
      "There are 20 agents. Each observes a state with length: 33\n",
      "The state for the first agent looks like: [ 0.00000000e+00 -4.00000000e+00  0.00000000e+00  1.00000000e+00\n",
      " -0.00000000e+00 -0.00000000e+00 -4.37113883e-08  0.00000000e+00\n",
      "  0.00000000e+00  0.00000000e+00  0.00000000e+00  0.00000000e+00\n",
      "  0.00000000e+00  0.00000000e+00 -1.00000000e+01  0.00000000e+00\n",
      "  1.00000000e+00 -0.00000000e+00 -0.00000000e+00 -4.37113883e-08\n",
      "  0.00000000e+00  0.00000000e+00  0.00000000e+00  0.00000000e+00\n",
      "  0.00000000e+00  0.00000000e+00  5.75471878e+00 -1.00000000e+00\n",
      "  5.55726671e+00  0.00000000e+00  1.00000000e+00  0.00000000e+00\n",
      " -1.68164849e-01]\n"
     ]
    }
   ],
   "source": [
    "# reset the environment\n",
    "env_info = env.reset(train_mode=True)[brain_name]\n",
    "\n",
    "# number of agents\n",
    "num_agents = len(env_info.agents)\n",
    "print('Number of agents:', num_agents)\n",
    "\n",
    "# size of each action\n",
    "action_size = brain.vector_action_space_size[0]\n",
    "print('Size of each action:', action_size)\n",
    "\n",
    "# examine the state space \n",
    "states = env_info.vector_observations\n",
    "state_size = states.shape[1]\n",
    "print('There are {} agents. Each observes a state with length: {}'.format(states.shape[0], state_size))\n",
    "print('The state for the first agent looks like:', states[0])"
   ]
  },
  {
   "cell_type": "markdown",
   "metadata": {},
   "source": [
    "### 3. Take Random Actions in the Environment"
   ]
  },
  {
   "cell_type": "code",
   "execution_count": 5,
   "metadata": {},
   "outputs": [
    {
     "name": "stdout",
     "output_type": "stream",
     "text": [
      "Total score (averaged over agents) this episode: 0.19199999570846557\n"
     ]
    }
   ],
   "source": [
    "env_info = env.reset(train_mode=True)[brain_name]     # reset the environment    \n",
    "states = env_info.vector_observations                  # get the current state (for each agent)\n",
    "scores = np.zeros(num_agents) # initialize the score (for each agent)\n",
    "step=0\n",
    "while True:\n",
    "    actions = np.random.randn(num_agents, action_size) # select an action (for each agent)\n",
    "    actions = np.clip(actions, -1, 1)                  # all actions between -1 and 1\n",
    "    env_info = env.step(actions)[brain_name]           # send all actions to tne environment\n",
    "    next_states = env_info.vector_observations         # get next state (for each agent)\n",
    "    rewards = env_info.rewards                         # get reward (for each agent)\n",
    "    dones = env_info.local_done                        # see if episode finished\n",
    "    scores += env_info.rewards                         # update the score (for each agent)\n",
    "    states = next_states                               # roll over states to next time step\n",
    "    step+=1\n",
    "    if np.any(dones):                                  # exit loop if episode finished\n",
    "        break\n",
    "print('Total score (averaged over agents) this episode: {}'.format(np.mean(scores)))"
   ]
  },
  {
   "cell_type": "markdown",
   "metadata": {},
   "source": [
    "### 4. Training the agent!\n",
    "\n",
    "Now it's turn to train an agent to solve the environment!  When training the environment, we have to set `train_mode=True`, so that the line for resetting the environment looks like the following:\n",
    "```python\n",
    "env_info = env.reset(train_mode=True)[brain_name]\n",
    "```"
   ]
  },
  {
   "cell_type": "code",
   "execution_count": 6,
   "metadata": {},
   "outputs": [
    {
     "name": "stdout",
     "output_type": "stream",
     "text": [
      "The autoreload extension is already loaded. To reload it, use:\n",
      "  %reload_ext autoreload\n"
     ]
    }
   ],
   "source": [
    "import random\n",
    "import datetime\n",
    "import torch\n",
    "import numpy as np\n",
    "from collections import deque\n",
    "import matplotlib.pyplot as plt\n",
    "%matplotlib inline\n",
    "\n",
    "#pytorch\n",
    "import torch\n",
    "import torch.nn as nn\n",
    "import torch.nn.functional as F\n",
    "import torch.optim as optim\n",
    "from torch.distributions import Normal\n",
    "\n",
    "# imports for rendering outputs in Jupyter.\n",
    "from JSAnimation.IPython_display import display_animation\n",
    "from matplotlib import animation\n",
    "from IPython.display import display\n",
    "\n",
    "# Some more magic so that the notebook will reload external python modules;\n",
    "# see http://stackoverflow.com/questions/1907993/autoreload-of-modules-in-ipython\n",
    "%load_ext autoreload\n",
    "%autoreload 2"
   ]
  },
  {
   "cell_type": "code",
   "execution_count": 7,
   "metadata": {},
   "outputs": [
    {
     "name": "stdout",
     "output_type": "stream",
     "text": [
      "using cuda:0\n"
     ]
    }
   ],
   "source": [
    "# defining the device\n",
    "device = torch.device(\"cuda:0\" if torch.cuda.is_available() else \"cpu\")\n",
    "print (\"using\",device)"
   ]
  },
  {
   "cell_type": "markdown",
   "metadata": {},
   "source": [
    "### 3. Define policy network (Actor Critic style)"
   ]
  },
  {
   "cell_type": "code",
   "execution_count": 8,
   "metadata": {},
   "outputs": [],
   "source": [
    "state_size = brain.vector_observation_space_size\n",
    "action_size = brain.vector_action_space_size\n",
    "action_low = -1\n",
    "action_high = 1\n",
    "\n",
    "# define actor critic network\n",
    "class ActorCritic(nn.Module):\n",
    "    \n",
    "    def __init__(self,state_size,action_size,action_high,action_low,hidden_size=32):\n",
    "        super(ActorCritic, self).__init__()\n",
    "        \n",
    "        # action range\n",
    "        self.action_high = torch.tensor(action_high).to(device)\n",
    "        self.action_low = torch.tensor(action_low).to(device)\n",
    "        \n",
    "        self.std = nn.Parameter(torch.zeros(action_size))\n",
    "        \n",
    "        # common network\n",
    "        self.fc1 = nn.Linear(state_size,512)\n",
    "        \n",
    "        # actor network\n",
    "        self.fc2_actor = nn.Linear(512,256)\n",
    "        self.fc3_action = nn.Linear(256,action_size)\n",
    "        #self.fc3_std = nn.Linear(64,action_size)\n",
    "        \n",
    "        # critic network\n",
    "        self.fc2_critic = nn.Linear(512,256)\n",
    "        self.fc3_critic = nn.Linear(256,1)\n",
    "    \n",
    "    def forward(self,state):\n",
    "        # common network\n",
    "        x = F.relu(self.fc1(state))\n",
    "        \n",
    "        # actor network\n",
    "        x_actor = F.relu(self.fc2_actor(x))\n",
    "        action_mean = F.sigmoid(self.fc3_action(x_actor))\n",
    "        ## rescale action mean\n",
    "        action_mean_ = (self.action_high-self.action_low)*action_mean + self.action_low\n",
    "        #action_std = F.sigmoid(self.fc3_std(x_actor))\n",
    "        \n",
    "        # critic network\n",
    "        x_critic = F.relu(self.fc2_critic(x))\n",
    "        v = self.fc3_critic(x_critic)\n",
    "        return action_mean_,v\n",
    "    \n",
    "    def act(self,state,action=None):\n",
    "        # converting state from numpy array to pytorch tensor on the \"device\"\n",
    "        state = torch.from_numpy(state).float().to(device)\n",
    "        action_mean,v = self.forward(state)\n",
    "        prob_dist = Normal(action_mean,F.softplus(self.std))\n",
    "        if action is None:\n",
    "            action = prob_dist.sample()\n",
    "        log_prob = prob_dist.log_prob(action).sum(-1).unsqueeze(-1)\n",
    "        entropy = prob_dist.entropy().sum(-1).unsqueeze(-1)\n",
    "        return {'a': action,\n",
    "                'log_pi_a': log_prob,\n",
    "                'ent': entropy,\n",
    "                'mean': action_mean,\n",
    "                'v': v}"
   ]
  },
  {
   "cell_type": "markdown",
   "metadata": {},
   "source": [
    "### 4. Storage class"
   ]
  },
  {
   "cell_type": "code",
   "execution_count": 9,
   "metadata": {},
   "outputs": [],
   "source": [
    "class Storage:\n",
    "    def __init__(self, size, keys=None):\n",
    "        if keys is None:\n",
    "            keys = []\n",
    "        keys = keys + ['s', 'a', 'r', 'm',\n",
    "                       'v', 'q', 'pi', 'log_pi', 'ent',\n",
    "                       'adv', 'ret', 'q_a', 'log_pi_a',\n",
    "                       'mean']\n",
    "        self.keys = keys\n",
    "        self.size = size\n",
    "        self.reset()\n",
    "\n",
    "    def add(self, data):\n",
    "        for k, v in data.items():\n",
    "            assert k in self.keys\n",
    "            getattr(self, k).append(v)\n",
    "\n",
    "    def placeholder(self):\n",
    "        for k in self.keys:\n",
    "            v = getattr(self, k)\n",
    "            if len(v) == 0:\n",
    "                setattr(self, k, [None] * self.size)\n",
    "\n",
    "    def reset(self):\n",
    "        for key in self.keys:\n",
    "            setattr(self, key, [])\n",
    "\n",
    "    def cat(self, keys):\n",
    "        data = [getattr(self, k)[:self.size] for k in keys]\n",
    "        return map(lambda x: torch.cat(x, dim=0), data)"
   ]
  },
  {
   "cell_type": "markdown",
   "metadata": {},
   "source": [
    "### 4. PPO agent"
   ]
  },
  {
   "cell_type": "code",
   "execution_count": 27,
   "metadata": {},
   "outputs": [],
   "source": [
    "from collections import deque\n",
    "from itertools import accumulate\n",
    "import torch.tensor as tensor\n",
    "\n",
    "def random_sample(indices, batch_size):\n",
    "    indices = np.asarray(np.random.permutation(indices))\n",
    "    batches = indices[:len(indices) // batch_size * batch_size].reshape(-1, batch_size)\n",
    "    for batch in batches:\n",
    "        yield batch\n",
    "    r = len(indices) % batch_size\n",
    "    if r:\n",
    "        yield indices[-r:]\n",
    "        \n",
    "class Agent:\n",
    "    \n",
    "    def __init__(self,env,learning_rate=1e-3):\n",
    "        self.env = env\n",
    "        nS = brain.vector_observation_space_size\n",
    "        nA = brain.vector_action_space_size[0]\n",
    "        self.policy = ActorCritic(state_size=nS,hidden_size=128,action_size=nA,\n",
    "                             action_low=action_low,action_high=action_high).to(device)\n",
    "        self.optimizer = optim.RMSprop(self.policy.parameters(), lr=learning_rate)\n",
    "        \n",
    "        # reset the environment\n",
    "        env_info = self.env.reset(train_mode=True)[brain_name]\n",
    "        self.states = env_info.vector_observations\n",
    "        \n",
    "        self.episode_rewards_window = deque(maxlen=100)\n",
    "        self.episode_rewards = []\n",
    "        num_trajectories = 20\n",
    "        self.online_rewards = np.zeros(num_trajectories)\n",
    "    \n",
    "        \n",
    "    def train(self,max_opt_steps=1000,num_trajectories=20,rollout_length=2048,mini_batch_size=64,gamma=.99,\n",
    "              target_score=-250,use_gae=False,gae_tau=0.95,PRINT_EVERY=100):\n",
    "        \n",
    "        for opt_step in range(max_opt_steps):\n",
    "        \n",
    "            storage = Storage(rollout_length)\n",
    "            \n",
    "            for _ in range(rollout_length):\n",
    "                prediction = self.policy.act(self.states)\n",
    "                \n",
    "                # send all actions to tne environment\n",
    "                env_info = self.env.step((prediction['a']).cpu().numpy())[brain_name]\n",
    "                \n",
    "                next_states = np.array(env_info.vector_observations)         # get next state (for each agent)\n",
    "                rewards = np.array(env_info.rewards)                      # get reward (for each agent)\n",
    "                terminals = np.array(env_info.local_done)                  # see if episode finished\n",
    "                \n",
    "                self.online_rewards += rewards\n",
    "                for i, terminal in enumerate(terminals):\n",
    "                    if terminals[i]:\n",
    "                        self.episode_rewards.append(self.online_rewards[i])\n",
    "                        self.episode_rewards_window.append(self.online_rewards[i])\n",
    "                        self.online_rewards[i] = 0\n",
    "                \n",
    "                storage.add(prediction)\n",
    "                storage.add({'r': tensor(rewards).unsqueeze(-1).float().to(device),\n",
    "                             'm': tensor(1 - terminals).unsqueeze(-1).float().to(device),\n",
    "                             's': tensor(self.states).to(device)})\n",
    "                self.states = next_states\n",
    "\n",
    "            prediction = self.policy.act(self.states)\n",
    "            storage.add(prediction)\n",
    "            storage.placeholder()\n",
    "\n",
    "            advantages = tensor(np.zeros((num_trajectories, 1))).float().to(device)\n",
    "            returns = prediction['v'].detach()\n",
    "            for i in reversed(range(rollout_length)):\n",
    "                returns = storage.r[i] + gamma * storage.m[i] * returns\n",
    "                if not use_gae:\n",
    "                    advantages = returns - storage.v[i].detach()\n",
    "                else:\n",
    "                    td_error = storage.r[i] + gamma * storage.m[i] * storage.v[i + 1] - storage.v[i]\n",
    "                    advantages = advantages * gae_tau * gamma * storage.m[i] + td_error\n",
    "                storage.adv[i] = advantages.detach()\n",
    "                storage.ret[i] = returns.detach()\n",
    "\n",
    "            states, actions, log_probs_old, returns, advantages = storage.cat(['s', 'a', 'log_pi_a', 'ret', 'adv'])\n",
    "            actions = actions.detach()\n",
    "            log_probs_old = log_probs_old.detach()\n",
    "            advantages = (advantages - advantages.mean()) / advantages.std()\n",
    "            \n",
    "            ppo_ratio_clip = 0.2\n",
    "            gradient_clip = 0.5\n",
    "            entropy_weight = 0.0\n",
    "            \n",
    "            for _ in range(10):\n",
    "                sampler = random_sample(np.arange(states.size(0)), mini_batch_size)\n",
    "                for batch_indices in sampler:\n",
    "                    batch_indices = tensor(batch_indices).long()\n",
    "                    sampled_states = states[batch_indices]\n",
    "                    sampled_actions = actions[batch_indices]\n",
    "                    sampled_log_probs_old = log_probs_old[batch_indices]\n",
    "                    sampled_returns = returns[batch_indices]\n",
    "                    sampled_advantages = advantages[batch_indices]\n",
    "\n",
    "                    prediction = self.policy.act(sampled_states.cpu().numpy(), sampled_actions)\n",
    "                    ratio = (prediction['log_pi_a'] - sampled_log_probs_old).exp()\n",
    "                    obj = ratio * sampled_advantages\n",
    "                    obj_clipped = ratio.clamp(1.0 - ppo_ratio_clip,\n",
    "                                              1.0 + ppo_ratio_clip) * sampled_advantages\n",
    "                    policy_loss = -torch.min(obj, obj_clipped).mean() - entropy_weight * prediction['ent'].mean()\n",
    "\n",
    "                    value_loss = 0.5 * (sampled_returns - prediction['v']).pow(2).mean()\n",
    "\n",
    "                    self.optimizer.zero_grad()\n",
    "                    (policy_loss + value_loss).backward()\n",
    "                    nn.utils.clip_grad_norm_(self.policy.parameters(), gradient_clip)\n",
    "                    self.optimizer.step()\n",
    "            \n",
    "            #printing progress\n",
    "            if opt_step % PRINT_EVERY == 0:\n",
    "                print (\"Opt step: {}\\t Avg reward: {:.2f}\\t std: {}\".format(opt_step,np.mean(self.episode_rewards_window),\n",
    "                                                                             self.policy.std.detach().cpu().numpy()))\n",
    "                # save the policy\n",
    "                torch.save(self.policy, 'ppo-reacher.policy')\n",
    "            \n",
    "            if np.mean(self.episode_rewards_window)>= target_score:\n",
    "                print (\"Environment solved in {} optimization steps! ... Avg reward : {:.2f}\".format(opt_step-100,\n",
    "                                                                                          np.mean(self.episode_rewards_window)))\n",
    "                # save the policy\n",
    "                torch.save(self.policy, 'ppo-reacher.policy')\n",
    "                break\n",
    "                \n",
    "        return self.episode_rewards"
   ]
  },
  {
   "cell_type": "markdown",
   "metadata": {},
   "source": [
    "### 5. Train the agent"
   ]
  },
  {
   "cell_type": "code",
   "execution_count": 28,
   "metadata": {},
   "outputs": [],
   "source": [
    "# lets define and train our agent\n",
    "agent = Agent(env=env,learning_rate=1e-4)"
   ]
  },
  {
   "cell_type": "code",
   "execution_count": 29,
   "metadata": {
    "scrolled": false
   },
   "outputs": [
    {
     "name": "stdout",
     "output_type": "stream",
     "text": [
      "Opt step: 0\t Avg reward: nan\t std: [ 0.00078335 -0.00917011 -0.00362336 -0.00954494]\n"
     ]
    },
    {
     "name": "stderr",
     "output_type": "stream",
     "text": [
      "/home/jsingh/anaconda3/envs/reacher/lib/python3.6/site-packages/torch/serialization.py:251: UserWarning: Couldn't retrieve source code for container of type ActorCritic. It won't be checked for correctness upon loading.\n",
      "  \"type \" + obj.__name__ + \". It won't be checked \"\n"
     ]
    },
    {
     "name": "stdout",
     "output_type": "stream",
     "text": [
      "Opt step: 10\t Avg reward: 0.79\t std: [-0.11303902 -0.10685635 -0.12149021 -0.14759502]\n",
      "Opt step: 20\t Avg reward: 1.59\t std: [-0.22545068 -0.22194298 -0.23525351 -0.2815299 ]\n",
      "Opt step: 30\t Avg reward: 2.41\t std: [-0.34063774 -0.30509457 -0.36365145 -0.34938967]\n",
      "Opt step: 40\t Avg reward: 3.49\t std: [-0.45479515 -0.38440424 -0.461363   -0.42300364]\n",
      "Opt step: 50\t Avg reward: 4.34\t std: [-0.55797404 -0.4907658  -0.5337726  -0.5190257 ]\n",
      "Opt step: 60\t Avg reward: 4.75\t std: [-0.61634713 -0.59482616 -0.62442625 -0.58936906]\n",
      "Opt step: 70\t Avg reward: 6.04\t std: [-0.72510844 -0.68490195 -0.67338824 -0.6538073 ]\n",
      "Opt step: 80\t Avg reward: 6.58\t std: [-0.83946323 -0.7806158  -0.78940725 -0.7699074 ]\n",
      "Opt step: 90\t Avg reward: 7.36\t std: [-0.9246237  -0.8774674  -0.8682194  -0.85234374]\n",
      "Opt step: 100\t Avg reward: 7.70\t std: [-1.0143135  -0.98076886 -0.98536557 -0.937962  ]\n",
      "Opt step: 110\t Avg reward: 8.17\t std: [-1.1059353 -1.0776166 -1.0945332 -1.0424834]\n",
      "Opt step: 120\t Avg reward: 8.47\t std: [-1.2036345 -1.1553209 -1.2139933 -1.1727573]\n",
      "Opt step: 130\t Avg reward: 9.06\t std: [-1.3195325 -1.2254415 -1.3128247 -1.2896465]\n",
      "Opt step: 140\t Avg reward: 9.20\t std: [-1.3846205 -1.3228831 -1.4162186 -1.4289695]\n",
      "Opt step: 150\t Avg reward: 9.51\t std: [-1.5184076 -1.3850098 -1.5096799 -1.5164409]\n",
      "Opt step: 160\t Avg reward: 9.70\t std: [-1.6075424 -1.4838248 -1.6126448 -1.5951661]\n",
      "Opt step: 170\t Avg reward: 8.71\t std: [-1.6912928 -1.5592977 -1.7120795 -1.7107655]\n",
      "Opt step: 180\t Avg reward: 8.98\t std: [-1.7938126 -1.6325845 -1.7978966 -1.7844425]\n",
      "Opt step: 190\t Avg reward: 8.81\t std: [-1.8624529 -1.7321306 -1.8697897 -1.9056238]\n",
      "Opt step: 200\t Avg reward: 9.37\t std: [-1.9457096 -1.863141  -1.9299488 -1.9956268]\n",
      "Opt step: 210\t Avg reward: 8.58\t std: [-2.022686  -1.9944657 -2.0020695 -2.0740008]\n",
      "Opt step: 230\t Avg reward: 8.97\t std: [-2.1970482 -2.1792517 -2.1475933 -2.2040136]\n",
      "Opt step: 240\t Avg reward: 9.77\t std: [-2.2569406 -2.2662485 -2.1967206 -2.2948594]\n",
      "Opt step: 250\t Avg reward: 9.52\t std: [-2.3342247 -2.349183  -2.2967026 -2.356983 ]\n",
      "Opt step: 260\t Avg reward: 9.42\t std: [-2.3821008 -2.425998  -2.371751  -2.4153156]\n",
      "Opt step: 270\t Avg reward: 8.54\t std: [-2.455783  -2.5000813 -2.426489  -2.4815671]\n",
      "Opt step: 280\t Avg reward: 8.39\t std: [-2.5425339 -2.5702775 -2.4900331 -2.5488145]\n",
      "Opt step: 290\t Avg reward: 8.53\t std: [-2.600782  -2.6360528 -2.5625498 -2.6284952]\n",
      "Opt step: 300\t Avg reward: 8.30\t std: [-2.6640885 -2.7116935 -2.6033375 -2.6972747]\n",
      "Opt step: 310\t Avg reward: 8.06\t std: [-2.726881  -2.739826  -2.657689  -2.7639477]\n",
      "Opt step: 320\t Avg reward: 7.94\t std: [-2.7643943 -2.7780643 -2.695178  -2.8025064]\n",
      "Opt step: 330\t Avg reward: 7.33\t std: [-2.8202353 -2.8099487 -2.7294865 -2.8327074]\n",
      "Opt step: 340\t Avg reward: 8.02\t std: [-2.8571024 -2.860841  -2.7202291 -2.8612006]\n",
      "Opt step: 350\t Avg reward: 7.89\t std: [-2.882853  -2.9199677 -2.769593  -2.909554 ]\n",
      "Opt step: 360\t Avg reward: 7.19\t std: [-2.9290934 -2.9454684 -2.7862637 -2.9333482]\n",
      "Opt step: 370\t Avg reward: 8.11\t std: [-2.96473   -2.9576244 -2.7927563 -2.9541328]\n",
      "Opt step: 390\t Avg reward: 7.27\t std: [-2.9483771 -3.0054905 -2.8713214 -2.9731748]\n",
      "Opt step: 400\t Avg reward: 6.23\t std: [-2.98711   -3.0246694 -2.91804   -2.9753478]\n",
      "Opt step: 410\t Avg reward: 6.69\t std: [-2.9953876 -3.0637846 -2.9244442 -3.0051484]\n",
      "Opt step: 420\t Avg reward: 7.45\t std: [-3.0283267 -3.0814576 -2.937295  -3.0407996]\n",
      "Opt step: 430\t Avg reward: 7.31\t std: [-3.0559545 -3.089534  -2.933312  -3.0646985]\n",
      "Opt step: 440\t Avg reward: 7.30\t std: [-3.1055105 -3.0991328 -2.9525251 -3.1050975]\n",
      "Opt step: 450\t Avg reward: 7.57\t std: [-3.1415975 -3.1394873 -2.9684355 -3.1128943]\n",
      "Opt step: 460\t Avg reward: 7.10\t std: [-3.1522386 -3.1637967 -2.9855661 -3.1560333]\n",
      "Opt step: 470\t Avg reward: 7.14\t std: [-3.2075434 -3.1625078 -3.0238314 -3.1948254]\n",
      "Opt step: 480\t Avg reward: 7.47\t std: [-3.2319758 -3.1804154 -3.0439901 -3.2010713]\n",
      "Opt step: 490\t Avg reward: 7.55\t std: [-3.2345634 -3.2065315 -3.058473  -3.208103 ]\n",
      "Opt step: 500\t Avg reward: 7.20\t std: [-3.2431028 -3.2219868 -3.079092  -3.2406943]\n",
      "Opt step: 510\t Avg reward: 7.64\t std: [-3.2319174 -3.2525287 -3.095075  -3.2471364]\n",
      "Opt step: 520\t Avg reward: 7.17\t std: [-3.2384934 -3.2654462 -3.1080387 -3.260862 ]\n",
      "Opt step: 530\t Avg reward: 7.35\t std: [-3.2703714 -3.287023  -3.1140363 -3.257939 ]\n",
      "Opt step: 540\t Avg reward: 7.10\t std: [-3.2887886 -3.3042076 -3.143683  -3.281245 ]\n",
      "Opt step: 550\t Avg reward: 7.47\t std: [-3.2894576 -3.2827048 -3.1621377 -3.3104248]\n",
      "Opt step: 560\t Avg reward: 7.54\t std: [-3.3202844 -3.2756834 -3.1793783 -3.314549 ]\n",
      "Opt step: 570\t Avg reward: 7.76\t std: [-3.332851  -3.3153067 -3.1731682 -3.309794 ]\n",
      "Opt step: 580\t Avg reward: 6.76\t std: [-3.3513474 -3.3583138 -3.1903126 -3.3448427]\n",
      "Opt step: 590\t Avg reward: 6.36\t std: [-3.3624687 -3.351216  -3.202648  -3.386234 ]\n",
      "Opt step: 600\t Avg reward: 5.90\t std: [-3.356338  -3.3667624 -3.2280476 -3.3921826]\n",
      "Opt step: 610\t Avg reward: 6.09\t std: [-3.3954577 -3.3926206 -3.2267737 -3.4240532]\n",
      "Opt step: 620\t Avg reward: 6.18\t std: [-3.4262617 -3.3958428 -3.226995  -3.412343 ]\n",
      "Opt step: 630\t Avg reward: 6.15\t std: [-3.419208  -3.4248877 -3.2468934 -3.4353964]\n",
      "Opt step: 640\t Avg reward: 6.63\t std: [-3.422161  -3.4303906 -3.305775  -3.4557447]\n",
      "Opt step: 650\t Avg reward: 6.63\t std: [-3.439761  -3.438659  -3.281705  -3.4554467]\n",
      "Opt step: 660\t Avg reward: 6.29\t std: [-3.4746652 -3.4698439 -3.3088732 -3.4904695]\n",
      "Opt step: 670\t Avg reward: 6.59\t std: [-3.5043063 -3.498309  -3.3259225 -3.4835672]\n",
      "Opt step: 680\t Avg reward: 6.16\t std: [-3.520426  -3.5037224 -3.337937  -3.4717407]\n",
      "Opt step: 690\t Avg reward: 5.96\t std: [-3.519106  -3.5221615 -3.3236952 -3.4999242]\n",
      "Opt step: 700\t Avg reward: 6.23\t std: [-3.5267715 -3.5419154 -3.330175  -3.4874678]\n",
      "Opt step: 710\t Avg reward: 6.09\t std: [-3.5462563 -3.5644264 -3.3691306 -3.4965124]\n",
      "Opt step: 720\t Avg reward: 6.25\t std: [-3.5545635 -3.536394  -3.3643937 -3.5036633]\n",
      "Opt step: 730\t Avg reward: 6.46\t std: [-3.577435  -3.567625  -3.4097774 -3.52606  ]\n",
      "Opt step: 740\t Avg reward: 6.43\t std: [-3.586424  -3.581133  -3.4465384 -3.5609243]\n",
      "Opt step: 750\t Avg reward: 6.17\t std: [-3.6084733 -3.5870368 -3.4350972 -3.593543 ]\n",
      "Opt step: 760\t Avg reward: 6.22\t std: [-3.6244907 -3.5866115 -3.4350758 -3.5545893]\n",
      "Opt step: 770\t Avg reward: 5.91\t std: [-3.6192482 -3.5800874 -3.427903  -3.5354705]\n",
      "Opt step: 780\t Avg reward: 5.87\t std: [-3.604695  -3.6077337 -3.445073  -3.5569167]\n",
      "Opt step: 790\t Avg reward: 6.31\t std: [-3.6270955 -3.6164377 -3.4331002 -3.5526743]\n",
      "Opt step: 800\t Avg reward: 6.14\t std: [-3.6291437 -3.6354063 -3.4274478 -3.5612316]\n",
      "Opt step: 810\t Avg reward: 5.74\t std: [-3.6249228 -3.6485484 -3.4411209 -3.5511394]\n",
      "Opt step: 820\t Avg reward: 5.92\t std: [-3.637024  -3.6149428 -3.4391663 -3.5386472]\n",
      "Opt step: 830\t Avg reward: 6.52\t std: [-3.6045547 -3.6256046 -3.428252  -3.5410938]\n",
      "Opt step: 840\t Avg reward: 6.32\t std: [-3.6027024 -3.6370766 -3.4676132 -3.5469718]\n",
      "Opt step: 850\t Avg reward: 5.66\t std: [-3.6265037 -3.6253176 -3.4626393 -3.5563972]\n",
      "Opt step: 860\t Avg reward: 5.33\t std: [-3.6205041 -3.6279693 -3.4483998 -3.5485346]\n",
      "Opt step: 870\t Avg reward: 5.31\t std: [-3.6031122 -3.635721  -3.4617262 -3.5521696]\n",
      "Opt step: 880\t Avg reward: 5.70\t std: [-3.6051614 -3.658169  -3.453944  -3.5746903]\n",
      "Opt step: 890\t Avg reward: 5.04\t std: [-3.6105216 -3.6495068 -3.4683414 -3.569323 ]\n",
      "Opt step: 900\t Avg reward: 5.11\t std: [-3.6415858 -3.67132   -3.4862602 -3.588749 ]\n",
      "Opt step: 910\t Avg reward: 5.12\t std: [-3.6451888 -3.6800964 -3.4981995 -3.5471323]\n",
      "Opt step: 920\t Avg reward: 4.63\t std: [-3.657295  -3.6816077 -3.4768403 -3.58451  ]\n",
      "Opt step: 930\t Avg reward: 5.65\t std: [-3.6575506 -3.6685731 -3.507049  -3.5785909]\n",
      "Opt step: 940\t Avg reward: 4.28\t std: [-3.640456  -3.6693354 -3.5041149 -3.5677907]\n",
      "Opt step: 950\t Avg reward: 4.90\t std: [-3.6598263 -3.6939967 -3.510844  -3.5725877]\n",
      "Opt step: 960\t Avg reward: 4.35\t std: [-3.6622467 -3.7068298 -3.530554  -3.572114 ]\n",
      "Opt step: 970\t Avg reward: 4.37\t std: [-3.650217  -3.7314086 -3.5394645 -3.6027224]\n",
      "Opt step: 980\t Avg reward: 4.15\t std: [-3.627622  -3.7178035 -3.5431855 -3.6051984]\n",
      "Opt step: 990\t Avg reward: 4.59\t std: [-3.6664014 -3.7789135 -3.5678217 -3.638067 ]\n",
      "Opt step: 1000\t Avg reward: 5.05\t std: [-3.668478  -3.7797012 -3.567853  -3.6297817]\n"
     ]
    },
    {
     "name": "stdout",
     "output_type": "stream",
     "text": [
      "Opt step: 1010\t Avg reward: 5.15\t std: [-3.6885474 -3.7610834 -3.5491855 -3.6417332]\n",
      "Opt step: 1020\t Avg reward: 4.91\t std: [-3.7216082 -3.798197  -3.5386183 -3.652618 ]\n",
      "Opt step: 1030\t Avg reward: 4.58\t std: [-3.7298112 -3.7743332 -3.55269   -3.6450799]\n",
      "Opt step: 1040\t Avg reward: 4.96\t std: [-3.7242796 -3.7879708 -3.561247  -3.615555 ]\n",
      "Opt step: 1050\t Avg reward: 5.18\t std: [-3.7141523 -3.7804174 -3.5721383 -3.6383705]\n",
      "Opt step: 1060\t Avg reward: 5.04\t std: [-3.7171552 -3.7745626 -3.5569463 -3.6794794]\n",
      "Opt step: 1070\t Avg reward: 5.18\t std: [-3.751507  -3.7829542 -3.5510254 -3.6995957]\n",
      "Opt step: 1080\t Avg reward: 5.07\t std: [-3.7323296 -3.784407  -3.5328062 -3.6964598]\n",
      "Opt step: 1090\t Avg reward: 5.21\t std: [-3.7193108 -3.8018174 -3.5518696 -3.688373 ]\n",
      "Opt step: 1100\t Avg reward: 5.24\t std: [-3.7109373 -3.787445  -3.548177  -3.670122 ]\n",
      "Opt step: 1110\t Avg reward: 5.09\t std: [-3.7360547 -3.7695262 -3.5592108 -3.6839797]\n",
      "Opt step: 1120\t Avg reward: 4.88\t std: [-3.750779  -3.7803757 -3.5378504 -3.6900058]\n",
      "Opt step: 1130\t Avg reward: 5.22\t std: [-3.7487807 -3.769544  -3.5606956 -3.6533158]\n",
      "Opt step: 1140\t Avg reward: 4.83\t std: [-3.7664156 -3.799475  -3.5629368 -3.656876 ]\n",
      "Opt step: 1150\t Avg reward: 5.23\t std: [-3.755062  -3.8105237 -3.5812728 -3.6826527]\n",
      "Opt step: 1160\t Avg reward: 5.15\t std: [-3.756635  -3.8027792 -3.5906296 -3.6740372]\n",
      "Opt step: 1170\t Avg reward: 5.62\t std: [-3.7302911 -3.8120415 -3.559933  -3.7101989]\n",
      "Opt step: 1180\t Avg reward: 4.93\t std: [-3.7357738 -3.8076694 -3.5783458 -3.6806033]\n",
      "Opt step: 1190\t Avg reward: 4.96\t std: [-3.7530186 -3.816008  -3.581193  -3.7003345]\n",
      "Opt step: 1200\t Avg reward: 5.03\t std: [-3.7474244 -3.8245142 -3.5606227 -3.6728313]\n",
      "Opt step: 1210\t Avg reward: 4.86\t std: [-3.7390265 -3.806106  -3.554538  -3.669897 ]\n",
      "Opt step: 1220\t Avg reward: 5.19\t std: [-3.7422392 -3.8192828 -3.5865154 -3.7076938]\n",
      "Opt step: 1230\t Avg reward: 5.26\t std: [-3.723264  -3.819725  -3.5956824 -3.7003808]\n",
      "Opt step: 1240\t Avg reward: 5.71\t std: [-3.7126899 -3.8301084 -3.6134412 -3.7099473]\n",
      "Opt step: 1250\t Avg reward: 5.52\t std: [-3.750645  -3.8193922 -3.6169648 -3.7254946]\n",
      "Opt step: 1260\t Avg reward: 5.30\t std: [-3.7394226 -3.8121233 -3.6108303 -3.7086372]\n",
      "Opt step: 1270\t Avg reward: 5.38\t std: [-3.7537005 -3.8153462 -3.6002138 -3.6988738]\n",
      "Opt step: 1280\t Avg reward: 4.88\t std: [-3.7574096 -3.8047082 -3.5973346 -3.703191 ]\n",
      "Opt step: 1290\t Avg reward: 4.82\t std: [-3.7659416 -3.7862442 -3.5788214 -3.7038128]\n",
      "Opt step: 1300\t Avg reward: 4.85\t std: [-3.7405744 -3.8186948 -3.5805762 -3.72008  ]\n",
      "Opt step: 1310\t Avg reward: 4.67\t std: [-3.7435303 -3.829414  -3.5684388 -3.711752 ]\n",
      "Opt step: 1320\t Avg reward: 4.79\t std: [-3.7425408 -3.856792  -3.573803  -3.684826 ]\n",
      "Opt step: 1330\t Avg reward: 4.34\t std: [-3.7430067 -3.866019  -3.60089   -3.6998496]\n",
      "Opt step: 1340\t Avg reward: 4.53\t std: [-3.7604203 -3.8688238 -3.5711293 -3.732647 ]\n",
      "Opt step: 1350\t Avg reward: 4.74\t std: [-3.7556136 -3.856983  -3.5667343 -3.7339442]\n",
      "Opt step: 1360\t Avg reward: 4.45\t std: [-3.783655  -3.8499653 -3.5886483 -3.7178671]\n",
      "Opt step: 1370\t Avg reward: 4.65\t std: [-3.8011189 -3.8587039 -3.6127243 -3.7581625]\n",
      "Opt step: 1380\t Avg reward: 4.51\t std: [-3.7729633 -3.8550425 -3.610672  -3.7509615]\n",
      "Opt step: 1390\t Avg reward: 4.44\t std: [-3.7547238 -3.8522277 -3.603824  -3.7690606]\n",
      "Opt step: 1400\t Avg reward: 4.39\t std: [-3.7775524 -3.8644457 -3.6334934 -3.7628274]\n",
      "Opt step: 1410\t Avg reward: 4.17\t std: [-3.7851741 -3.856793  -3.612189  -3.7525532]\n",
      "Opt step: 1420\t Avg reward: 4.53\t std: [-3.7523735 -3.8512163 -3.6245453 -3.7710905]\n",
      "Opt step: 1430\t Avg reward: 4.36\t std: [-3.768289  -3.85977   -3.6326451 -3.7745082]\n",
      "Opt step: 1440\t Avg reward: 4.30\t std: [-3.798175  -3.8764653 -3.641638  -3.7783184]\n",
      "Opt step: 1450\t Avg reward: 4.40\t std: [-3.791578  -3.8884609 -3.6258743 -3.7534702]\n",
      "Opt step: 1460\t Avg reward: 4.39\t std: [-3.7976904 -3.8735101 -3.647386  -3.7836246]\n",
      "Opt step: 1470\t Avg reward: 4.02\t std: [-3.804589  -3.8865368 -3.659479  -3.7942681]\n",
      "Opt step: 1480\t Avg reward: 3.82\t std: [-3.770335 -3.875896 -3.641556 -3.800509]\n",
      "Opt step: 1490\t Avg reward: 4.16\t std: [-3.7685013 -3.8906348 -3.6575902 -3.7852788]\n",
      "Opt step: 1510\t Avg reward: 4.25\t std: [-3.7947009 -3.9261463 -3.7062879 -3.829151 ]\n",
      "Opt step: 1520\t Avg reward: 4.28\t std: [-3.8243012 -3.944342  -3.7080717 -3.8271039]\n",
      "Opt step: 1530\t Avg reward: 4.28\t std: [-3.8119152 -3.8913918 -3.713388  -3.8193464]\n",
      "Opt step: 1540\t Avg reward: 4.24\t std: [-3.81737   -3.906817  -3.7066333 -3.809847 ]\n"
     ]
    },
    {
     "ename": "KeyboardInterrupt",
     "evalue": "",
     "output_type": "error",
     "traceback": [
      "\u001b[0;31m---------------------------------------------------------------------------\u001b[0m",
      "\u001b[0;31mKeyboardInterrupt\u001b[0m                         Traceback (most recent call last)",
      "\u001b[0;32m<ipython-input-29-dbd225b99990>\u001b[0m in \u001b[0;36m<module>\u001b[0;34m\u001b[0m\n\u001b[0;32m----> 1\u001b[0;31m \u001b[0mscores\u001b[0m \u001b[0;34m=\u001b[0m \u001b[0magent\u001b[0m\u001b[0;34m.\u001b[0m\u001b[0mtrain\u001b[0m\u001b[0;34m(\u001b[0m\u001b[0mmax_opt_steps\u001b[0m\u001b[0;34m=\u001b[0m\u001b[0;36m2000\u001b[0m\u001b[0;34m,\u001b[0m\u001b[0mgamma\u001b[0m\u001b[0;34m=\u001b[0m\u001b[0;36m0.99\u001b[0m\u001b[0;34m,\u001b[0m\u001b[0mrollout_length\u001b[0m\u001b[0;34m=\u001b[0m\u001b[0;36m800\u001b[0m\u001b[0;34m,\u001b[0m\u001b[0mtarget_score\u001b[0m\u001b[0;34m=\u001b[0m\u001b[0;36m30\u001b[0m\u001b[0;34m,\u001b[0m\u001b[0mPRINT_EVERY\u001b[0m\u001b[0;34m=\u001b[0m\u001b[0;36m10\u001b[0m\u001b[0;34m)\u001b[0m\u001b[0;34m\u001b[0m\u001b[0;34m\u001b[0m\u001b[0m\n\u001b[0m",
      "\u001b[0;32m<ipython-input-27-0f3cbeba12fc>\u001b[0m in \u001b[0;36mtrain\u001b[0;34m(self, max_opt_steps, num_trajectories, rollout_length, mini_batch_size, gamma, target_score, use_gae, gae_tau, PRINT_EVERY)\u001b[0m\n\u001b[1;32m    107\u001b[0m \u001b[0;34m\u001b[0m\u001b[0m\n\u001b[1;32m    108\u001b[0m                     \u001b[0mself\u001b[0m\u001b[0;34m.\u001b[0m\u001b[0moptimizer\u001b[0m\u001b[0;34m.\u001b[0m\u001b[0mzero_grad\u001b[0m\u001b[0;34m(\u001b[0m\u001b[0;34m)\u001b[0m\u001b[0;34m\u001b[0m\u001b[0;34m\u001b[0m\u001b[0m\n\u001b[0;32m--> 109\u001b[0;31m                     \u001b[0;34m(\u001b[0m\u001b[0mpolicy_loss\u001b[0m \u001b[0;34m+\u001b[0m \u001b[0mvalue_loss\u001b[0m\u001b[0;34m)\u001b[0m\u001b[0;34m.\u001b[0m\u001b[0mbackward\u001b[0m\u001b[0;34m(\u001b[0m\u001b[0;34m)\u001b[0m\u001b[0;34m\u001b[0m\u001b[0;34m\u001b[0m\u001b[0m\n\u001b[0m\u001b[1;32m    110\u001b[0m                     \u001b[0mnn\u001b[0m\u001b[0;34m.\u001b[0m\u001b[0mutils\u001b[0m\u001b[0;34m.\u001b[0m\u001b[0mclip_grad_norm_\u001b[0m\u001b[0;34m(\u001b[0m\u001b[0mself\u001b[0m\u001b[0;34m.\u001b[0m\u001b[0mpolicy\u001b[0m\u001b[0;34m.\u001b[0m\u001b[0mparameters\u001b[0m\u001b[0;34m(\u001b[0m\u001b[0;34m)\u001b[0m\u001b[0;34m,\u001b[0m \u001b[0mgradient_clip\u001b[0m\u001b[0;34m)\u001b[0m\u001b[0;34m\u001b[0m\u001b[0;34m\u001b[0m\u001b[0m\n\u001b[1;32m    111\u001b[0m                     \u001b[0mself\u001b[0m\u001b[0;34m.\u001b[0m\u001b[0moptimizer\u001b[0m\u001b[0;34m.\u001b[0m\u001b[0mstep\u001b[0m\u001b[0;34m(\u001b[0m\u001b[0;34m)\u001b[0m\u001b[0;34m\u001b[0m\u001b[0;34m\u001b[0m\u001b[0m\n",
      "\u001b[0;32m~/anaconda3/envs/reacher/lib/python3.6/site-packages/torch/tensor.py\u001b[0m in \u001b[0;36mbackward\u001b[0;34m(self, gradient, retain_graph, create_graph)\u001b[0m\n\u001b[1;32m    100\u001b[0m                 \u001b[0mproducts\u001b[0m\u001b[0;34m.\u001b[0m \u001b[0mDefaults\u001b[0m \u001b[0mto\u001b[0m\u001b[0;31m \u001b[0m\u001b[0;31m`\u001b[0m\u001b[0;31m`\u001b[0m\u001b[0;32mFalse\u001b[0m\u001b[0;31m`\u001b[0m\u001b[0;31m`\u001b[0m\u001b[0;34m.\u001b[0m\u001b[0;34m\u001b[0m\u001b[0;34m\u001b[0m\u001b[0m\n\u001b[1;32m    101\u001b[0m         \"\"\"\n\u001b[0;32m--> 102\u001b[0;31m         \u001b[0mtorch\u001b[0m\u001b[0;34m.\u001b[0m\u001b[0mautograd\u001b[0m\u001b[0;34m.\u001b[0m\u001b[0mbackward\u001b[0m\u001b[0;34m(\u001b[0m\u001b[0mself\u001b[0m\u001b[0;34m,\u001b[0m \u001b[0mgradient\u001b[0m\u001b[0;34m,\u001b[0m \u001b[0mretain_graph\u001b[0m\u001b[0;34m,\u001b[0m \u001b[0mcreate_graph\u001b[0m\u001b[0;34m)\u001b[0m\u001b[0;34m\u001b[0m\u001b[0;34m\u001b[0m\u001b[0m\n\u001b[0m\u001b[1;32m    103\u001b[0m \u001b[0;34m\u001b[0m\u001b[0m\n\u001b[1;32m    104\u001b[0m     \u001b[0;32mdef\u001b[0m \u001b[0mregister_hook\u001b[0m\u001b[0;34m(\u001b[0m\u001b[0mself\u001b[0m\u001b[0;34m,\u001b[0m \u001b[0mhook\u001b[0m\u001b[0;34m)\u001b[0m\u001b[0;34m:\u001b[0m\u001b[0;34m\u001b[0m\u001b[0;34m\u001b[0m\u001b[0m\n",
      "\u001b[0;32m~/anaconda3/envs/reacher/lib/python3.6/site-packages/torch/autograd/__init__.py\u001b[0m in \u001b[0;36mbackward\u001b[0;34m(tensors, grad_tensors, retain_graph, create_graph, grad_variables)\u001b[0m\n\u001b[1;32m     88\u001b[0m     Variable._execution_engine.run_backward(\n\u001b[1;32m     89\u001b[0m         \u001b[0mtensors\u001b[0m\u001b[0;34m,\u001b[0m \u001b[0mgrad_tensors\u001b[0m\u001b[0;34m,\u001b[0m \u001b[0mretain_graph\u001b[0m\u001b[0;34m,\u001b[0m \u001b[0mcreate_graph\u001b[0m\u001b[0;34m,\u001b[0m\u001b[0;34m\u001b[0m\u001b[0;34m\u001b[0m\u001b[0m\n\u001b[0;32m---> 90\u001b[0;31m         allow_unreachable=True)  # allow_unreachable flag\n\u001b[0m\u001b[1;32m     91\u001b[0m \u001b[0;34m\u001b[0m\u001b[0m\n\u001b[1;32m     92\u001b[0m \u001b[0;34m\u001b[0m\u001b[0m\n",
      "\u001b[0;31mKeyboardInterrupt\u001b[0m: "
     ]
    }
   ],
   "source": [
    "scores = agent.train(max_opt_steps=2000,gamma=0.99,rollout_length=800,target_score=30,PRINT_EVERY=10)"
   ]
  },
  {
   "cell_type": "code",
   "execution_count": 32,
   "metadata": {},
   "outputs": [
    {
     "data": {
      "image/png": "[encoded data removed]",
      "text/plain": [
       "<Figure size 432x288 with 1 Axes>"
      ]
     },
     "metadata": {
      "needs_background": "light"
     },
     "output_type": "display_data"
    }
   ],
   "source": [
    "# plot the rewards curve\n",
    "plt.plot(scores)\n",
    "plt.xlabel('Epochs')\n",
    "plt.ylabel('Reward')\n",
    "plt.title('Reward Curve: PPO')\n",
    "plt.show()"
   ]
  },
  {
   "cell_type": "code",
   "execution_count": null,
   "metadata": {},
   "outputs": [],
   "source": [
    "# uncomment this cell to load the trained policy for Pendulum-v0\n",
    "# load policy\n",
    "policy =  torch.load('ppo-crawler.policy',map_location='cpu')\n",
    "agent = Agent(env)\n",
    "agent.policy = policy"
   ]
  },
  {
   "cell_type": "code",
   "execution_count": null,
   "metadata": {},
   "outputs": [],
   "source": []
  },
  {
   "cell_type": "code",
   "execution_count": null,
   "metadata": {},
   "outputs": [],
   "source": [
    "frames = []\n",
    "total_rewards = np.zeros(12)\n",
    "\n",
    "# reset the environment\n",
    "env_info = env.reset(train_mode=False)[brain_name]\n",
    "states = np.array(env_info.vector_observations)\n",
    "value = []\n",
    "r = []\n",
    "for t in range(2000):\n",
    "    prediction = agent.policy.act(states)\n",
    "    action  = prediction['a'].cpu().numpy()\n",
    "    v = prediction['v'].detach().cpu().numpy()\n",
    "    #frames.append(env.render(mode='rgb_array')) \n",
    "    \n",
    "    # send all actions to tne environment\n",
    "    env_info = env.step(action)[brain_name]\n",
    "\n",
    "    next_states = np.array(env_info.vector_observations)         # get next state (for each agent)\n",
    "    rewards = np.array(env_info.rewards)                         # get reward (for each agent)\n",
    "    terminals = np.array(env_info.local_done)                    # see if episode finished\n",
    "    \n",
    "    #value.append(v.squeeze())\n",
    "    #r.append(reward)\n",
    "    states=next_states\n",
    "    total_rewards+= rewards\n",
    "    \n",
    "    if np.any(terminals):\n",
    "        for i,terminal in enumerate(terminals):\n",
    "            if terminal:\n",
    "                eps_reward = total_rewards[i]\n",
    "                break\n",
    "        break\n",
    "\n",
    "print (\"Total reward:\",eps_reward)\n",
    "#animate_frames(frames)"
   ]
  },
  {
   "cell_type": "code",
   "execution_count": 14,
   "metadata": {},
   "outputs": [],
   "source": [
    "a = torch.randn(3)"
   ]
  },
  {
   "cell_type": "code",
   "execution_count": 20,
   "metadata": {},
   "outputs": [
    {
     "data": {
      "text/plain": [
       "array([-0.04466691, -0.3507598 ,  1.2199067 ], dtype=float32)"
      ]
     },
     "execution_count": 20,
     "metadata": {},
     "output_type": "execute_result"
    }
   ],
   "source": [
    "a.data.numpy()"
   ]
  },
  {
   "cell_type": "code",
   "execution_count": null,
   "metadata": {},
   "outputs": [],
   "source": []
  }
 ],
 "metadata": {
  "kernelspec": {
   "display_name": "reacher",
   "language": "python",
   "name": "reacher"
  }
 },
 "nbformat": 4,
 "nbformat_minor": 2
}
