{
 "cells": [
  {
   "cell_type": "markdown",
   "metadata": {},
   "source": [
    "### 1. Start the Environment"
   ]
  },
  {
   "cell_type": "code",
   "execution_count": 1,
   "metadata": {},
   "outputs": [],
   "source": [
    "from mlagents.envs import UnityEnvironment\n",
    "import numpy as np\n",
    "\n",
    "# Some more magic so that the notebook will reload external python modules;\n",
    "# see http://stackoverflow.com/questions/1907993/autoreload-of-modules-in-ipython\n",
    "%load_ext autoreload\n",
    "%autoreload 2"
   ]
  },
  {
   "cell_type": "markdown",
   "metadata": {},
   "source": [
    "**_Before running the code cell below_**, change the `file_name` parameter to match the location of the Reacher Unity environment.\n",
    "\n",
    "For instance, if you are using a Mac, then you downloaded `Reacher.app`.  If this file is in the same folder as the notebook, then the line below should appear as follows:\n",
    "```\n",
    "env = UnityEnvironment(file_name=\"Reacher.app\")\n",
    "```"
   ]
  },
  {
   "cell_type": "code",
   "execution_count": 2,
   "metadata": {},
   "outputs": [
    {
     "name": "stderr",
     "output_type": "stream",
     "text": [
      "INFO:mlagents.envs:\n",
      "'Academy' started successfully!\n",
      "Unity Academy name: Academy\n",
      "        Number of Brains: 1\n",
      "        Number of Training Brains : 1\n",
      "        Reset Parameters :\n",
      "\t\tgoal_speed -> 1.0\n",
      "\t\tgoal_size -> 5.0\n",
      "Unity brain name: ReacherLearning\n",
      "        Number of Visual Observations (per agent): 0\n",
      "        Vector Observation space size (per agent): 33\n",
      "        Number of stacked Vector Observation: 1\n",
      "        Vector Action space type: continuous\n",
      "        Vector Action space size (per agent): [4]\n",
      "        Vector Action descriptions: , , , \n"
     ]
    }
   ],
   "source": [
    "# load Unity environment for Linux\n",
    "env = UnityEnvironment(file_name='unity_envs/Reacher_Linux/Reacher_Linux.x86_64')\n",
    "\n",
    "# # load Unity env for macos\n",
    "# env = UnityEnvironment(file_name='unity_envs/Reacher_macos/Reacher.app')"
   ]
  },
  {
   "cell_type": "markdown",
   "metadata": {},
   "source": [
    "Environments contain **_brains_** which are responsible for deciding the actions of their associated agents. Here we check for the first brain available, and set it as the default brain we will be controlling from Python."
   ]
  },
  {
   "cell_type": "code",
   "execution_count": 3,
   "metadata": {},
   "outputs": [],
   "source": [
    "# get the default brain\n",
    "brain_name = env.brain_names[0]\n",
    "brain = env.brains[brain_name]"
   ]
  },
  {
   "cell_type": "markdown",
   "metadata": {},
   "source": [
    "### 2. Examine the State and Action Spaces\n",
    "\n",
    "* Set-up: Double-jointed arm which can move to target locations.\n",
    "* Goal: The agents must move its hand to the goal location, and keep it there.\n",
    "* Agents: The environment contains 10 agent linked to a single Brain.\n",
    "* Agent Reward Function (independent):\n",
    "  * +0.1 Each step agent's hand is in goal location.\n",
    "* Brains: One Brain with the following observation/action space.\n",
    "  * Vector Observation space: 26 variables corresponding to position, rotation,\n",
    "    velocity, and angular velocities of the two arm Rigidbodies.\n",
    "  * Vector Action space: (Continuous) Size of 4, corresponding to torque\n",
    "    applicable to two joints.\n",
    "  * Visual Observations: None.\n",
    "* Reset Parameters: Two, corresponding to goal size, and goal movement speed.\n",
    "* Benchmark Mean Reward: 30\n",
    "\n",
    "Lets print some information about the environment."
   ]
  },
  {
   "cell_type": "code",
   "execution_count": 4,
   "metadata": {},
   "outputs": [
    {
     "name": "stdout",
     "output_type": "stream",
     "text": [
      "Number of agents: 20\n",
      "Size of each action: 4\n",
      "There are 20 agents. Each observes a state with length: 33\n",
      "The state for the first agent looks like: [ 0.00000000e+00 -4.00000000e+00  0.00000000e+00  1.00000000e+00\n",
      " -0.00000000e+00 -0.00000000e+00 -4.37113883e-08  0.00000000e+00\n",
      "  0.00000000e+00  0.00000000e+00  0.00000000e+00  0.00000000e+00\n",
      "  0.00000000e+00  0.00000000e+00 -1.00000000e+01  0.00000000e+00\n",
      "  1.00000000e+00 -0.00000000e+00 -0.00000000e+00 -4.37113883e-08\n",
      "  0.00000000e+00  0.00000000e+00  0.00000000e+00  0.00000000e+00\n",
      "  0.00000000e+00  0.00000000e+00  5.75471878e+00 -1.00000000e+00\n",
      "  5.55726671e+00  0.00000000e+00  1.00000000e+00  0.00000000e+00\n",
      " -1.68164849e-01]\n"
     ]
    }
   ],
   "source": [
    "# reset the environment\n",
    "env_info = env.reset(train_mode=True)[brain_name]\n",
    "\n",
    "# number of agents\n",
    "num_agents = len(env_info.agents)\n",
    "print('Number of agents:', num_agents)\n",
    "\n",
    "# size of each action\n",
    "action_size = brain.vector_action_space_size[0]\n",
    "print('Size of each action:', action_size)\n",
    "\n",
    "# examine the state space \n",
    "states = env_info.vector_observations\n",
    "state_size = states.shape[1]\n",
    "print('There are {} agents. Each observes a state with length: {}'.format(states.shape[0], state_size))\n",
    "print('The state for the first agent looks like:', states[0])"
   ]
  },
  {
   "cell_type": "markdown",
   "metadata": {},
   "source": [
    "### 3. Take Random Actions in the Environment"
   ]
  },
  {
   "cell_type": "code",
   "execution_count": 5,
   "metadata": {},
   "outputs": [
    {
     "name": "stdout",
     "output_type": "stream",
     "text": [
      "Total score (averaged over agents) this episode: 0.17549999607726932\n"
     ]
    }
   ],
   "source": [
    "env_info = env.reset(train_mode=True)[brain_name]     # reset the environment    \n",
    "states = env_info.vector_observations                  # get the current state (for each agent)\n",
    "scores = np.zeros(num_agents) # initialize the score (for each agent)\n",
    "step=0\n",
    "while True:\n",
    "    actions = np.random.randn(num_agents, action_size) # select an action (for each agent)\n",
    "    actions = np.clip(actions, -1, 1)                  # all actions between -1 and 1\n",
    "    env_info = env.step(actions)[brain_name]           # send all actions to tne environment\n",
    "    next_states = env_info.vector_observations         # get next state (for each agent)\n",
    "    rewards = env_info.rewards                         # get reward (for each agent)\n",
    "    dones = env_info.local_done                        # see if episode finished\n",
    "    scores += env_info.rewards                         # update the score (for each agent)\n",
    "    states = next_states                               # roll over states to next time step\n",
    "    step+=1\n",
    "    if np.any(dones):                                  # exit loop if episode finished\n",
    "        break\n",
    "print('Total score (averaged over agents) this episode: {}'.format(np.mean(scores)))"
   ]
  },
  {
   "cell_type": "markdown",
   "metadata": {},
   "source": [
    "### 4. Training the agent!\n",
    "\n",
    "Now it's turn to train an agent to solve the environment!  When training the environment, we have to set `train_mode=True`, so that the line for resetting the environment looks like the following:\n",
    "```python\n",
    "env_info = env.reset(train_mode=True)[brain_name]\n",
    "```"
   ]
  },
  {
   "cell_type": "code",
   "execution_count": 6,
   "metadata": {},
   "outputs": [
    {
     "name": "stdout",
     "output_type": "stream",
     "text": [
      "The autoreload extension is already loaded. To reload it, use:\n",
      "  %reload_ext autoreload\n"
     ]
    }
   ],
   "source": [
    "import random\n",
    "import datetime\n",
    "import torch\n",
    "import numpy as np\n",
    "from collections import deque\n",
    "import matplotlib.pyplot as plt\n",
    "%matplotlib inline\n",
    "%config InlineBackend.figure_format = 'retina'\n",
    "\n",
    "#pytorch\n",
    "import torch\n",
    "import torch.nn as nn\n",
    "import torch.nn.functional as F\n",
    "import torch.optim as optim\n",
    "from torch.distributions import Normal\n",
    "\n",
    "# Some more magic so that the notebook will reload external python modules;\n",
    "# see http://stackoverflow.com/questions/1907993/autoreload-of-modules-in-ipython\n",
    "%load_ext autoreload\n",
    "%autoreload 2"
   ]
  },
  {
   "cell_type": "code",
   "execution_count": 7,
   "metadata": {},
   "outputs": [
    {
     "name": "stdout",
     "output_type": "stream",
     "text": [
      "using cuda:0\n"
     ]
    }
   ],
   "source": [
    "# defining the device\n",
    "device = torch.device(\"cuda:0\" if torch.cuda.is_available() else \"cpu\")\n",
    "print (\"using\",device)"
   ]
  },
  {
   "cell_type": "markdown",
   "metadata": {},
   "source": [
    "### 3. Define policy network (Actor Critic style)"
   ]
  },
  {
   "cell_type": "code",
   "execution_count": 8,
   "metadata": {},
   "outputs": [],
   "source": [
    "state_size = brain.vector_observation_space_size\n",
    "action_size = brain.vector_action_space_size\n",
    "action_low = -1\n",
    "action_high = 1\n",
    "\n",
    "# define actor critic network\n",
    "class ActorCritic(nn.Module):\n",
    "    \n",
    "    def __init__(self,state_size,action_size,action_high,action_low,hidden_sizes=[512,256]):\n",
    "        super(ActorCritic, self).__init__()\n",
    "        \n",
    "        # action range\n",
    "        self.action_high = torch.tensor(action_high).to(device)\n",
    "        self.action_low = torch.tensor(action_low).to(device)\n",
    "        \n",
    "        self.std = nn.Parameter(torch.zeros(action_size))\n",
    "        \n",
    "        # common network\n",
    "        self.fc1 = nn.Linear(state_size,hidden_sizes[0])\n",
    "        \n",
    "        # actor network\n",
    "        self.fc2_actor = nn.Linear(hidden_sizes[0],hidden_sizes[1])\n",
    "        self.fc3_action = nn.Linear(hidden_sizes[1],action_size)\n",
    "        \n",
    "        # critic network\n",
    "        self.fc2_critic = nn.Linear(hidden_sizes[0],hidden_sizes[1])\n",
    "        self.fc3_critic = nn.Linear(hidden_sizes[1],1)\n",
    "    \n",
    "    def forward(self,state):\n",
    "        # common network\n",
    "        x = F.relu(self.fc1(state))\n",
    "        \n",
    "        # actor network\n",
    "        x_actor = F.relu(self.fc2_actor(x))\n",
    "        action_mean = F.sigmoid(self.fc3_action(x_actor))\n",
    "        ## rescale action mean\n",
    "        action_mean_ = (self.action_high-self.action_low)*action_mean + self.action_low\n",
    "        #action_std = F.sigmoid(self.fc3_std(x_actor))\n",
    "        \n",
    "        # critic network\n",
    "        x_critic = F.relu(self.fc2_critic(x))\n",
    "        v = self.fc3_critic(x_critic)\n",
    "        return action_mean_,v\n",
    "    \n",
    "    def act(self,state,action=None):\n",
    "        # converting state from numpy array to pytorch tensor on the \"device\"\n",
    "        state = torch.from_numpy(state).float().to(device)\n",
    "        action_mean,v = self.forward(state)\n",
    "        prob_dist = Normal(action_mean,F.softplus(self.std))\n",
    "        if action is None:\n",
    "            action = prob_dist.sample()\n",
    "        log_prob = prob_dist.log_prob(action).sum(-1).unsqueeze(-1)\n",
    "        entropy = prob_dist.entropy().sum(-1).unsqueeze(-1)\n",
    "        return {'a': action,\n",
    "                'log_pi_a': log_prob,\n",
    "                'ent': entropy,\n",
    "                'mean': action_mean,\n",
    "                'v': v}"
   ]
  },
  {
   "cell_type": "markdown",
   "metadata": {},
   "source": [
    "### 4. Storage class"
   ]
  },
  {
   "cell_type": "code",
   "execution_count": 9,
   "metadata": {},
   "outputs": [],
   "source": [
    "class Storage:\n",
    "    def __init__(self, size, keys=None):\n",
    "        if keys is None:\n",
    "            keys = []\n",
    "        keys = keys + ['s', 'a', 'r', 'm',\n",
    "                       'v', 'q', 'pi', 'log_pi', 'ent',\n",
    "                       'adv', 'ret', 'q_a', 'log_pi_a',\n",
    "                       'mean']\n",
    "        self.keys = keys\n",
    "        self.size = size\n",
    "        self.reset()\n",
    "\n",
    "    def add(self, data):\n",
    "        for k, v in data.items():\n",
    "            assert k in self.keys\n",
    "            getattr(self, k).append(v)\n",
    "\n",
    "    def placeholder(self):\n",
    "        for k in self.keys:\n",
    "            v = getattr(self, k)\n",
    "            if len(v) == 0:\n",
    "                setattr(self, k, [None] * self.size)\n",
    "\n",
    "    def reset(self):\n",
    "        for key in self.keys:\n",
    "            setattr(self, key, [])\n",
    "\n",
    "    def cat(self, keys):\n",
    "        data = [getattr(self, k)[:self.size] for k in keys]\n",
    "        return map(lambda x: torch.cat(x, dim=0), data)"
   ]
  },
  {
   "cell_type": "markdown",
   "metadata": {},
   "source": [
    "### 4. PPO agent"
   ]
  },
  {
   "cell_type": "code",
   "execution_count": 10,
   "metadata": {},
   "outputs": [],
   "source": [
    "from collections import deque\n",
    "from itertools import accumulate\n",
    "import torch.tensor as tensor\n",
    "\n",
    "# dir for saving trained models\n",
    "model_save_path = 'trained_models/ppo/'\n",
    "\n",
    "def random_sample(indices, batch_size):\n",
    "    indices = np.asarray(np.random.permutation(indices))\n",
    "    batches = indices[:len(indices) // batch_size * batch_size].reshape(-1, batch_size)\n",
    "    for batch in batches:\n",
    "        yield batch\n",
    "    r = len(indices) % batch_size\n",
    "    if r:\n",
    "        yield indices[-r:]\n",
    "        \n",
    "class Agent:\n",
    "    \n",
    "    def __init__(self,env,learning_rate=1e-3):\n",
    "        self.env = env\n",
    "        nS = brain.vector_observation_space_size\n",
    "        nA = brain.vector_action_space_size[0]\n",
    "        self.policy = ActorCritic(state_size=nS,hidden_sizes=[512,256],action_size=nA,\n",
    "                             action_low=action_low,action_high=action_high).to(device)\n",
    "        self.optimizer = optim.Adam(self.policy.parameters(), lr=learning_rate)\n",
    "        \n",
    "        # reset the environment\n",
    "        env_info = self.env.reset(train_mode=True)[brain_name]\n",
    "        self.states = env_info.vector_observations\n",
    "        \n",
    "        self.episode_rewards_window = deque(maxlen=100)\n",
    "        self.episode_rewards = []\n",
    "        num_trajectories = 20\n",
    "        self.online_rewards = np.zeros(num_trajectories)\n",
    "    \n",
    "        \n",
    "    def train(self,n_epochs=1000,num_trajectories=20,rollout_length=2048,mini_batch_size=64,gamma=.99,\n",
    "              target_score=-250,use_gae=False,gae_tau=0.95,PRINT_EVERY=100):\n",
    "        \n",
    "        for epoch in range(n_epochs):\n",
    "        \n",
    "            storage = Storage(rollout_length)\n",
    "            \n",
    "            for _ in range(rollout_length):\n",
    "                prediction = self.policy.act(self.states)\n",
    "                \n",
    "                # send all actions to tne environment\n",
    "                env_info = self.env.step((prediction['a']).cpu().numpy())[brain_name]\n",
    "                \n",
    "                next_states = np.array(env_info.vector_observations)         # get next state (for each agent)\n",
    "                rewards = np.array(env_info.rewards)                      # get reward (for each agent)\n",
    "                terminals = np.array(env_info.local_done)                  # see if episode finished\n",
    "                \n",
    "                self.online_rewards += rewards\n",
    "                for i, terminal in enumerate(terminals):\n",
    "                    if terminals[i]:\n",
    "                        self.episode_rewards.append(self.online_rewards[i])\n",
    "                        self.episode_rewards_window.append(self.online_rewards[i])\n",
    "                        self.online_rewards[i] = 0\n",
    "                \n",
    "                storage.add(prediction)\n",
    "                storage.add({'r': tensor(rewards).unsqueeze(-1).float().to(device),\n",
    "                             'm': tensor(1 - terminals).unsqueeze(-1).float().to(device),\n",
    "                             's': tensor(self.states).to(device)})\n",
    "                self.states = next_states\n",
    "\n",
    "            prediction = self.policy.act(self.states)\n",
    "            storage.add(prediction)\n",
    "            storage.placeholder()\n",
    "\n",
    "            advantages = tensor(np.zeros((num_trajectories, 1))).float().to(device)\n",
    "            returns = prediction['v'].detach()\n",
    "            for i in reversed(range(rollout_length)):\n",
    "                returns = storage.r[i] + gamma * storage.m[i] * returns\n",
    "                if not use_gae:\n",
    "                    advantages = returns - storage.v[i].detach()\n",
    "                else:\n",
    "                    td_error = storage.r[i] + gamma * storage.m[i] * storage.v[i + 1] - storage.v[i]\n",
    "                    advantages = advantages * gae_tau * gamma * storage.m[i] + td_error\n",
    "                storage.adv[i] = advantages.detach()\n",
    "                storage.ret[i] = returns.detach()\n",
    "\n",
    "            states, actions, log_probs_old, returns, advantages = storage.cat(['s', 'a', 'log_pi_a', 'ret', 'adv'])\n",
    "            actions = actions.detach()\n",
    "            log_probs_old = log_probs_old.detach()\n",
    "            advantages = (advantages - advantages.mean()) / advantages.std()\n",
    "            \n",
    "            ppo_ratio_clip = 0.2\n",
    "            gradient_clip = 0.5\n",
    "            entropy_weight = 0.0\n",
    "            \n",
    "            for _ in range(10):\n",
    "                sampler = random_sample(np.arange(states.size(0)), mini_batch_size)\n",
    "                for batch_indices in sampler:\n",
    "                    batch_indices = tensor(batch_indices).long()\n",
    "                    sampled_states = states[batch_indices]\n",
    "                    sampled_actions = actions[batch_indices]\n",
    "                    sampled_log_probs_old = log_probs_old[batch_indices]\n",
    "                    sampled_returns = returns[batch_indices]\n",
    "                    sampled_advantages = advantages[batch_indices]\n",
    "\n",
    "                    prediction = self.policy.act(sampled_states.cpu().numpy(), sampled_actions)\n",
    "                    ratio = (prediction['log_pi_a'] - sampled_log_probs_old).exp()\n",
    "                    obj = ratio * sampled_advantages\n",
    "                    obj_clipped = ratio.clamp(1.0 - ppo_ratio_clip,\n",
    "                                              1.0 + ppo_ratio_clip) * sampled_advantages\n",
    "                    policy_loss = -torch.min(obj, obj_clipped).mean() - entropy_weight * prediction['ent'].mean()\n",
    "\n",
    "                    value_loss = 0.5 * (sampled_returns - prediction['v']).pow(2).mean()\n",
    "\n",
    "                    self.optimizer.zero_grad()\n",
    "                    (policy_loss + value_loss).backward()\n",
    "                    nn.utils.clip_grad_norm_(self.policy.parameters(), gradient_clip)\n",
    "                    self.optimizer.step()\n",
    "            \n",
    "            #printing progress\n",
    "            if epoch % PRINT_EVERY == 0:\n",
    "                print (\"Epoch: {}\\t Avg reward: {:.2f}\\t action_std: {}\".format(epoch,np.mean(self.episode_rewards_window),\n",
    "                                                                             self.policy.std.detach().cpu().numpy()))\n",
    "                # save the policy\n",
    "                torch.save(self.policy, model_save_path+'ppo-reacher.policy')\n",
    "            \n",
    "            if np.mean(self.episode_rewards_window)>= target_score:\n",
    "                print (\"Environment solved in {} epochs! ... Avg reward : {:.2f}\".format(epoch-100,\n",
    "                                                                                          np.mean(self.episode_rewards_window)))\n",
    "                # save the policy\n",
    "                torch.save(self.policy, model_save_path+'ppo-reacher.policy')\n",
    "                break\n",
    "                \n",
    "        return self.episode_rewards"
   ]
  },
  {
   "cell_type": "markdown",
   "metadata": {},
   "source": [
    "### 5. Train the agent"
   ]
  },
  {
   "cell_type": "code",
   "execution_count": 11,
   "metadata": {},
   "outputs": [],
   "source": [
    "# lets define and train our agent\n",
    "agent = Agent(env=env,learning_rate=3e-5)"
   ]
  },
  {
   "cell_type": "code",
   "execution_count": 13,
   "metadata": {},
   "outputs": [
    {
     "name": "stderr",
     "output_type": "stream",
     "text": [
      "/home/jsingh/anaconda3/envs/reacher/lib/python3.6/site-packages/torch/nn/functional.py:1332: UserWarning: nn.functional.sigmoid is deprecated. Use torch.sigmoid instead.\n",
      "  warnings.warn(\"nn.functional.sigmoid is deprecated. Use torch.sigmoid instead.\")\n",
      "/home/jsingh/anaconda3/envs/reacher/lib/python3.6/site-packages/numpy/core/fromnumeric.py:3118: RuntimeWarning: Mean of empty slice.\n",
      "  out=out, **kwargs)\n",
      "/home/jsingh/anaconda3/envs/reacher/lib/python3.6/site-packages/numpy/core/_methods.py:85: RuntimeWarning: invalid value encountered in double_scalars\n",
      "  ret = ret.dtype.type(ret / rcount)\n",
      "/home/jsingh/anaconda3/envs/reacher/lib/python3.6/site-packages/torch/serialization.py:251: UserWarning: Couldn't retrieve source code for container of type ActorCritic. It won't be checked for correctness upon loading.\n",
      "  \"type \" + obj.__name__ + \". It won't be checked \"\n"
     ]
    },
    {
     "name": "stdout",
     "output_type": "stream",
     "text": [
      "Epoch: 0\t Avg reward: nan\t action_std: [-0.00508857 -0.00393812 -0.00068194  0.0005314 ]\n",
      "Epoch: 100\t Avg reward: 3.55\t action_std: [-0.16325815 -0.14115214 -0.15301496 -0.15037829]\n",
      "Epoch: 150\t Avg reward: 4.86\t action_std: [-0.21602997 -0.2180779  -0.20952952 -0.21437667]\n",
      "Epoch: 200\t Avg reward: 6.31\t action_std: [-0.27631453 -0.2708306  -0.26795822 -0.2564206 ]\n",
      "Epoch: 250\t Avg reward: 8.74\t action_std: [-0.32977566 -0.3458866  -0.3198295  -0.30882463]\n",
      "Epoch: 300\t Avg reward: 10.58\t action_std: [-0.374599   -0.4272292  -0.36870542 -0.38470435]\n",
      "Epoch: 350\t Avg reward: 12.94\t action_std: [-0.40225667 -0.47929788 -0.43741363 -0.42528996]\n",
      "Epoch: 400\t Avg reward: 15.48\t action_std: [-0.4524423  -0.51775837 -0.46896106 -0.4716383 ]\n",
      "Epoch: 450\t Avg reward: 16.71\t action_std: [-0.49641842 -0.5770384  -0.5013828  -0.51696676]\n",
      "Epoch: 500\t Avg reward: 18.41\t action_std: [-0.51913977 -0.6247325  -0.5606662  -0.5707567 ]\n",
      "Epoch: 550\t Avg reward: 20.41\t action_std: [-0.5897517  -0.67796326 -0.58788157 -0.6171231 ]\n",
      "Epoch: 600\t Avg reward: 21.69\t action_std: [-0.63157487 -0.7359719  -0.6559167  -0.649368  ]\n",
      "Epoch: 650\t Avg reward: 23.35\t action_std: [-0.669249   -0.79674906 -0.7090673  -0.6838516 ]\n",
      "Epoch: 700\t Avg reward: 24.95\t action_std: [-0.73934287 -0.8691567  -0.7716407  -0.7089834 ]\n",
      "Epoch: 750\t Avg reward: 23.74\t action_std: [-0.77253604 -0.8987815  -0.80865383 -0.7605746 ]\n",
      "Epoch: 800\t Avg reward: 24.99\t action_std: [-0.8142485  -0.92885935 -0.8631858  -0.8207625 ]\n",
      "Epoch: 850\t Avg reward: 26.08\t action_std: [-0.857562   -0.9808845  -0.8914893  -0.85932547]\n",
      "Epoch: 900\t Avg reward: 25.36\t action_std: [-0.897349   -1.0371611  -0.9247373  -0.90051377]\n",
      "Epoch: 950\t Avg reward: 27.26\t action_std: [-0.9200347  -1.0597184  -0.9632217  -0.94853544]\n",
      "Epoch: 1000\t Avg reward: 28.12\t action_std: [-0.9586835  -1.0851088  -1.0091133  -0.96756583]\n",
      "Epoch: 1050\t Avg reward: 29.75\t action_std: [-0.9841376 -1.0988591 -1.0493741 -1.0154595]\n",
      "Environment solved in 951 epochs! ... Avg reward : 30.30\n"
     ]
    }
   ],
   "source": [
    "scores = agent.train(n_epochs=2000,gamma=0.99,rollout_length=200,target_score=30,PRINT_EVERY=50)"
   ]
  },
  {
   "cell_type": "code",
   "execution_count": 21,
   "metadata": {},
   "outputs": [
    {
     "data": {
      "image/png": "[encoded data removed]",
      "text/plain": [
       "<Figure size 432x288 with 1 Axes>"
      ]
     },
     "metadata": {
      "image/png": {
       "height": 277,
       "width": 384
      },
      "needs_background": "light"
     },
     "output_type": "display_data"
    }
   ],
   "source": [
    "# plot the rewards curve\n",
    "fig = plt.figure()\n",
    "plt.plot(scores)\n",
    "plt.xlabel('Episodes')\n",
    "plt.ylabel('Reward')\n",
    "plt.title('Reward Curve: PPO')\n",
    "plt.savefig('images/reward_curve-ppo.png',dpi=300)\n",
    "plt.show()"
   ]
  },
  {
   "cell_type": "markdown",
   "metadata": {},
   "source": [
    "### 6. Watch the trained RL agent!"
   ]
  },
  {
   "cell_type": "code",
   "execution_count": 16,
   "metadata": {},
   "outputs": [],
   "source": [
    "# uncomment this cell to load the trained policy for Reacher Unity environment\n",
    "# load policy\n",
    "policy =  torch.load(model_save_path+'ppo-reacher.policy',map_location=device)\n",
    "agent = Agent(env)\n",
    "agent.policy = policy"
   ]
  },
  {
   "cell_type": "code",
   "execution_count": 19,
   "metadata": {},
   "outputs": [
    {
     "name": "stdout",
     "output_type": "stream",
     "text": [
      "Total episode reward: 32.69999926909804\n"
     ]
    }
   ],
   "source": [
    "total_rewards = np.zeros(num_agents)\n",
    "\n",
    "# reset the environment\n",
    "env_info = env.reset(train_mode=True)[brain_name]\n",
    "states = np.array(env_info.vector_observations)\n",
    "while True:\n",
    "    prediction = agent.policy.act(states)\n",
    "    action  = prediction['a'].cpu().numpy()\n",
    "    v = prediction['v'].detach().cpu().numpy()\n",
    "    \n",
    "    # send all actions to tne environment\n",
    "    env_info = env.step(action)[brain_name]\n",
    "\n",
    "    next_states = np.array(env_info.vector_observations)         # get next state (for each agent)\n",
    "    rewards = np.array(env_info.rewards)                         # get reward (for each agent)\n",
    "    terminals = np.array(env_info.local_done)                    # see if episode finished\n",
    "    \n",
    "    states=next_states\n",
    "    total_rewards+= rewards\n",
    "    \n",
    "    if np.any(terminals):\n",
    "        for i,terminal in enumerate(terminals):\n",
    "            if terminal:\n",
    "                eps_reward = total_rewards[i]\n",
    "                break\n",
    "        break\n",
    "\n",
    "print (\"Total episode reward:\",eps_reward)"
   ]
  },
  {
   "cell_type": "code",
   "execution_count": null,
   "metadata": {},
   "outputs": [],
   "source": []
  }
 ],
 "metadata": {
  "kernelspec": {
   "display_name": "reacher",
   "language": "python",
   "name": "reacher"
  },
  "language_info": {
   "codemirror_mode": {
    "name": "ipython",
    "version": 3
   },
   "file_extension": ".py",
   "mimetype": "text/x-python",
   "name": "python",
   "nbconvert_exporter": "python",
   "pygments_lexer": "ipython3",
   "version": "3.6.8"
  }
 },
 "nbformat": 4,
 "nbformat_minor": 2
}
